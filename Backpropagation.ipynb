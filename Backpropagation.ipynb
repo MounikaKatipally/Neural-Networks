{
 "cells": [
  {
   "cell_type": "code",
   "execution_count": 92,
   "id": "884338b6-7e24-4da3-bf3e-6328e2e4569a",
   "metadata": {},
   "outputs": [
    {
     "name": "stdout",
     "output_type": "stream",
     "text": [
      "Defaulting to user installation because normal site-packages is not writeable\n",
      "Requirement already satisfied: micrograd in c:\\users\\mounika katipally\\appdata\\roaming\\python\\python313\\site-packages (0.1.0)\n"
     ]
    }
   ],
   "source": [
    "!pip install micrograd\n",
    "from micrograd.engine import Value"
   ]
  },
  {
   "cell_type": "code",
   "execution_count": null,
   "id": "3214eca7-f3c0-4e28-b877-138868b2fa67",
   "metadata": {},
   "outputs": [],
   "source": []
  },
  {
   "cell_type": "code",
   "execution_count": 93,
   "id": "0f7cec72-f27e-41d5-ba77-048e33bf9df6",
   "metadata": {},
   "outputs": [],
   "source": [
    "a=Value(-4.0)\n",
    "b=Value(2.0)"
   ]
  },
  {
   "cell_type": "code",
   "execution_count": 94,
   "id": "3febcafc-9046-43dc-b4ed-6ca58ee27467",
   "metadata": {},
   "outputs": [
    {
     "name": "stdout",
     "output_type": "stream",
     "text": [
      "24.7041\n",
      "138.8338\n",
      "645.5773\n"
     ]
    }
   ],
   "source": [
    "c= a+b\n",
    "d=a*b+b**3\n",
    "c+=c+1\n",
    "c+=1+c+(-a)\n",
    "d+=d*2+(b+a).relu()\n",
    "d+=3*d+(b-a).relu()\n",
    "e=c-d\n",
    "f=e**2\n",
    "g=f/2.0\n",
    "g+=10.0/f\n",
    "print(f'{g.data:.4f}')\n",
    "g.backward()\n",
    "print(f'{a.grad:.4f}')\n",
    "print(f'{b.grad:.4f}')"
   ]
  },
  {
   "cell_type": "code",
   "execution_count": 144,
   "id": "cb5f8992-ed46-4d49-9e38-9cf26cf8dedd",
   "metadata": {},
   "outputs": [
    {
     "name": "stdout",
     "output_type": "stream",
     "text": [
      "Defaulting to user installation because normal site-packages is not writeable\n",
      "Requirement already satisfied: matplotlib in c:\\users\\mounika katipally\\appdata\\roaming\\python\\python313\\site-packages (3.10.1)\n",
      "Requirement already satisfied: contourpy>=1.0.1 in c:\\users\\mounika katipally\\appdata\\roaming\\python\\python313\\site-packages (from matplotlib) (1.3.2)\n",
      "Requirement already satisfied: cycler>=0.10 in c:\\users\\mounika katipally\\appdata\\roaming\\python\\python313\\site-packages (from matplotlib) (0.12.1)\n",
      "Requirement already satisfied: fonttools>=4.22.0 in c:\\users\\mounika katipally\\appdata\\roaming\\python\\python313\\site-packages (from matplotlib) (4.57.0)\n",
      "Requirement already satisfied: kiwisolver>=1.3.1 in c:\\users\\mounika katipally\\appdata\\roaming\\python\\python313\\site-packages (from matplotlib) (1.4.8)\n",
      "Requirement already satisfied: numpy>=1.23 in c:\\users\\mounika katipally\\appdata\\roaming\\python\\python313\\site-packages (from matplotlib) (2.2.5)\n",
      "Requirement already satisfied: packaging>=20.0 in c:\\users\\mounika katipally\\appdata\\roaming\\python\\python313\\site-packages (from matplotlib) (25.0)\n",
      "Requirement already satisfied: pillow>=8 in c:\\users\\mounika katipally\\appdata\\roaming\\python\\python313\\site-packages (from matplotlib) (11.2.1)\n",
      "Requirement already satisfied: pyparsing>=2.3.1 in c:\\users\\mounika katipally\\appdata\\roaming\\python\\python313\\site-packages (from matplotlib) (3.2.3)\n",
      "Requirement already satisfied: python-dateutil>=2.7 in c:\\users\\mounika katipally\\appdata\\roaming\\python\\python313\\site-packages (from matplotlib) (2.9.0.post0)\n",
      "Requirement already satisfied: six>=1.5 in c:\\users\\mounika katipally\\appdata\\roaming\\python\\python313\\site-packages (from python-dateutil>=2.7->matplotlib) (1.17.0)\n"
     ]
    }
   ],
   "source": [
    "!pip install matplotlib\n",
    "import math\n",
    "import numpy as np\n",
    "import matplotlib.pyplot as plt\n",
    "%matplotlib inline"
   ]
  },
  {
   "cell_type": "code",
   "execution_count": 96,
   "id": "a6df5114-d8a6-4059-bec4-080c210f72c1",
   "metadata": {},
   "outputs": [
    {
     "data": {
      "text/plain": [
       "20.0"
      ]
     },
     "execution_count": 96,
     "metadata": {},
     "output_type": "execute_result"
    }
   ],
   "source": [
    "def f(x):\n",
    "    return 3*x**2-4*x+5\n",
    "f(3.0)"
   ]
  },
  {
   "cell_type": "code",
   "execution_count": 97,
   "id": "e7d1aa37-f531-458f-a7cc-848c514cbad9",
   "metadata": {},
   "outputs": [
    {
     "data": {
      "text/plain": [
       "2.999378523327323e-06"
      ]
     },
     "execution_count": 97,
     "metadata": {},
     "output_type": "execute_result"
    }
   ],
   "source": [
    "h=0.000001\n",
    "x=2/3\n",
    "(f(x+h)-f(x))/h"
   ]
  },
  {
   "cell_type": "code",
   "execution_count": null,
   "id": "423f13dc-7347-4c6d-a4a0-b5402e78908f",
   "metadata": {},
   "outputs": [],
   "source": []
  },
  {
   "cell_type": "code",
   "execution_count": 98,
   "id": "c2200825-bbe1-4b0a-8fce-0b8344d5c0a0",
   "metadata": {},
   "outputs": [
    {
     "name": "stdout",
     "output_type": "stream",
     "text": [
      "[-5.   -4.75 -4.5  -4.25 -4.   -3.75 -3.5  -3.25 -3.   -2.75 -2.5  -2.25\n",
      " -2.   -1.75 -1.5  -1.25 -1.   -0.75 -0.5  -0.25  0.    0.25  0.5   0.75\n",
      "  1.    1.25  1.5   1.75  2.    2.25  2.5   2.75  3.    3.25  3.5   3.75\n",
      "  4.    4.25  4.5   4.75] [100.      91.6875  83.75    76.1875  69.      62.1875  55.75    49.6875\n",
      "  44.      38.6875  33.75    29.1875  25.      21.1875  17.75    14.6875\n",
      "  12.       9.6875   7.75     6.1875   5.       4.1875   3.75     3.6875\n",
      "   4.       4.6875   5.75     7.1875   9.      11.1875  13.75    16.6875\n",
      "  20.      23.6875  27.75    32.1875  37.      42.1875  47.75    53.6875]\n",
      "[<matplotlib.lines.Line2D object at 0x000001D456E91B50>]\n"
     ]
    },
    {
     "data": {
      "image/png": "[encoded data removed]",
      "text/plain": [
       "<Figure size 640x480 with 1 Axes>"
      ]
     },
     "metadata": {},
     "output_type": "display_data"
    }
   ],
   "source": [
    "xs=np.arange(-5,5,0.25)\n",
    "ys=f(xs)\n",
    "print(xs, ys)\n",
    "print(plt.plot(xs,ys))"
   ]
  },
  {
   "cell_type": "code",
   "execution_count": 99,
   "id": "443bfadd-d56f-4e1d-b423-0475f965b32d",
   "metadata": {},
   "outputs": [
    {
     "data": {
      "text/plain": [
       "array([-33.9997, -32.4997, -30.9997, -29.4997, -27.9997, -26.4997,\n",
       "       -24.9997, -23.4997, -21.9997, -20.4997, -18.9997, -17.4997,\n",
       "       -15.9997, -14.4997, -12.9997, -11.4997,  -9.9997,  -8.4997,\n",
       "        -6.9997,  -5.4997,  -3.9997,  -2.4997,  -0.9997,   0.5003,\n",
       "         2.0003,   3.5003,   5.0003,   6.5003,   8.0003,   9.5003,\n",
       "        11.0003,  12.5003,  14.0003,  15.5003,  17.0003,  18.5003,\n",
       "        20.0003,  21.5003,  23.0003,  24.5003])"
      ]
     },
     "execution_count": 99,
     "metadata": {},
     "output_type": "execute_result"
    }
   ],
   "source": [
    "h=0.0001\n",
    "((f(xs+h)-f(xs))/h)"
   ]
  },
  {
   "cell_type": "code",
   "execution_count": 100,
   "id": "12625551-07c7-4001-b766-b7967f0fb498",
   "metadata": {},
   "outputs": [
    {
     "name": "stdout",
     "output_type": "stream",
     "text": [
      "4.0\n"
     ]
    }
   ],
   "source": [
    "a=2.0\n",
    "b=-3.0\n",
    "c=10.0\n",
    "d=a*b+c\n",
    "print(d)"
   ]
  },
  {
   "cell_type": "code",
   "execution_count": 101,
   "id": "5f918c43-5475-44bc-b0b1-2e3f04e2ddb2",
   "metadata": {},
   "outputs": [
    {
     "name": "stdout",
     "output_type": "stream",
     "text": [
      "4.0\n",
      "slope: -3.000000000010772\n"
     ]
    }
   ],
   "source": [
    "a=2.0\n",
    "b=-3.0\n",
    "c=10.0\n",
    "d1=a*b+c\n",
    "print(d)\n",
    "\n",
    "h=0.0001\n",
    "\n",
    "a=2.0+h\n",
    "b=-3.0\n",
    "c=10.0\n",
    "d2=a*b+c\n",
    "\n",
    "print('slope:',(d2-d1)/h)\n"
   ]
  },
  {
   "cell_type": "code",
   "execution_count": 12,
   "id": "d60155d5-b526-45a1-a5c3-955f50bf8da9",
   "metadata": {},
   "outputs": [],
   "source": [
    "#Steps to draw an expression graph for the above expression\n",
    "#step 1: define the function(draw_dot) to draw the graph from root of the trace function\n",
    "#step 2: create a left to right graph\n",
    "#step 3: get nodes and edges from the trace function\n",
    "#step 4: for the node in the nodes, ----(create a for loop)\n",
    "#step 5: create a unique id (uid) for each node in the 'string format'\n",
    "#step 6: a) after giving it a unique id, \n",
    "#        b) we add a node to the graph \n",
    "#        c) Then we name it and 'show it' with the ('data value', 'label',(along with a format for data and label)) give it a 'shape'.\n",
    "#step 7: now, if the above node was created using an operation(eg: '+','-' etc.)---(write an if condition)\n",
    "#step 8: create a node for this operation as well, by giving it a 'name' and 'label' it with the 'operation'(symbol)\n",
    "#step 9: Now, we draw an edge from the operation node to the result node('uid' if the above condition in step:7 is true)\n",
    "#step 10: Create a for loop out of the above for loop\n",
    "#step 11: Create an edge inside the forloop between the predecessor node and the operation of the result node\n",
    "#step 12: Return the graph object\n",
    "#step 13: call the draw_dot function draw_dot()"
   ]
  },
  {
   "cell_type": "code",
   "execution_count": 133,
   "id": "47892ac7-4313-4f93-80bc-06723b20c22f",
   "metadata": {},
   "outputs": [],
   "source": [
    "class Value:\n",
    "    def __init__(self,data, _children=(), _op='', label=''):\n",
    "        self.data = data\n",
    "        self.grad = 0.0\n",
    "        self._backward=lambda:None\n",
    "        self._prev = set(_children)\n",
    "        self._op = _op\n",
    "        self.label = label\n",
    "    def __repr__(self):\n",
    "        return f\"Value(data={self.data})\"\n",
    "    def __add__(self,other):\n",
    "        out=Value(self.data+other.data,(self,other),'+') \n",
    "        def _backward():\n",
    "            self.grad=1.0*out.grad\n",
    "            other.grad=1.0*out.grad\n",
    "        out._backward=_backward\n",
    "        return out\n",
    "    def __mul__(self,other):\n",
    "        out=Value(self.data*other.data,(self,other),'*')\n",
    "        def _backward():\n",
    "            self.grad=other.data*out.grad\n",
    "            other.grad=self.data*out.grad\n",
    "        out._backward=_backward\n",
    "        return out\n",
    "    def tanh(self):\n",
    "        x=self.data\n",
    "        t=(math.exp(2*x)-1)/(math.exp(2*x)+1)\n",
    "        out=Value(t, (self, ), 'tanh')\n",
    "        def _backward():\n",
    "            self.grad=(1-t**2)*out.grad\n",
    "        out._backward=_backward\n",
    "        return out\n",
    "a=Value(2.0,label='a')\n",
    "b=Value(-3.0,label='b')\n",
    "c=Value(10.0,label='c')\n",
    "e=a*b;e.label='e'\n",
    "d=e+c;d.label='d'\n",
    "f=Value(-2.0,label='f')\n",
    "L=d*f;L.label='L'"
   ]
  },
  {
   "cell_type": "code",
   "execution_count": 103,
   "id": "3acdf48c-5256-4b36-ad0a-33c16fcc1117",
   "metadata": {},
   "outputs": [
    {
     "name": "stdout",
     "output_type": "stream",
     "text": [
      "Defaulting to user installation because normal site-packages is not writeable\n",
      "Requirement already satisfied: graphviz in c:\\users\\mounika katipally\\appdata\\roaming\\python\\python313\\site-packages (0.20.3)\n"
     ]
    }
   ],
   "source": [
    "!pip install graphviz\n",
    "from graphviz import Digraph\n",
    "def trace(root):\n",
    "    nodes, edges = set(), set()\n",
    "    def build(v):\n",
    "        if v not in nodes:\n",
    "            nodes.add(v)'\n",
    "            for child in v._prev:\n",
    "                edges.add((child,v))\n",
    "                build(child)\n",
    "    build(root)\n",
    "    return nodes, edges"
   ]
  },
  {
   "cell_type": "code",
   "execution_count": 104,
   "id": "3780e811-77c0-4b65-86fb-37926540ec32",
   "metadata": {},
   "outputs": [
    {
     "data": {
      "image/svg+xml": [
       "<?xml version=\"1.0\" encoding=\"UTF-8\" standalone=\"no\"?>\n",
       "<!DOCTYPE svg PUBLIC \"-//W3C//DTD SVG 1.1//EN\"\n",
       " \"http://www.w3.org/Graphics/SVG/1.1/DTD/svg11.dtd\">\n",
       "<!-- Generated by graphviz version 12.2.1 (20241206.2353)\n",
       " -->\n",
       "<!-- Pages: 1 -->\n",
       "<svg width=\"1140pt\" height=\"156pt\"\n",
       " viewBox=\"0.00 0.00 1139.75 156.00\" xmlns=\"http://www.w3.org/2000/svg\" xmlns:xlink=\"http://www.w3.org/1999/xlink\">\n",
       "<g id=\"graph0\" class=\"graph\" transform=\"scale(1 1) rotate(0) translate(4 152)\">\n",
       "<polygon fill=\"white\" stroke=\"none\" points=\"-4,4 -4,-152 1135.75,-152 1135.75,4 -4,4\"/>\n",
       "<!-- 2011465872400 -->\n",
       "<g id=\"node1\" class=\"node\">\n",
       "<title>2011465872400</title>\n",
       "<polygon fill=\"none\" stroke=\"black\" points=\"0,-111.5 0,-147.5 188.25,-147.5 188.25,-111.5 0,-111.5\"/>\n",
       "<text text-anchor=\"middle\" x=\"11.38\" y=\"-124.7\" font-family=\"Times New Roman,serif\" font-size=\"14.00\">b</text>\n",
       "<polyline fill=\"none\" stroke=\"black\" points=\"22.75,-112 22.75,-147.5\"/>\n",
       "<text text-anchor=\"middle\" x=\"64.88\" y=\"-124.7\" font-family=\"Times New Roman,serif\" font-size=\"14.00\">data &#45;3.0000</text>\n",
       "<polyline fill=\"none\" stroke=\"black\" points=\"107,-112 107,-147.5\"/>\n",
       "<text text-anchor=\"middle\" x=\"147.62\" y=\"-124.7\" font-family=\"Times New Roman,serif\" font-size=\"14.00\">grad 0.0000</text>\n",
       "</g>\n",
       "<!-- 2011502812752* -->\n",
       "<g id=\"node5\" class=\"node\">\n",
       "<title>2011502812752*</title>\n",
       "<ellipse fill=\"none\" stroke=\"black\" cx=\"251.25\" cy=\"-101.5\" rx=\"27\" ry=\"18\"/>\n",
       "<text text-anchor=\"middle\" x=\"251.25\" y=\"-96.45\" font-family=\"Times New Roman,serif\" font-size=\"14.00\">*</text>\n",
       "</g>\n",
       "<!-- 2011465872400&#45;&gt;2011502812752* -->\n",
       "<g id=\"edge6\" class=\"edge\">\n",
       "<title>2011465872400&#45;&gt;2011502812752*</title>\n",
       "<path fill=\"none\" stroke=\"black\" d=\"M188.49,-112.65C197.36,-111.05 205.93,-109.5 213.73,-108.09\"/>\n",
       "<polygon fill=\"black\" stroke=\"black\" points=\"214.2,-111.56 223.42,-106.34 212.95,-104.68 214.2,-111.56\"/>\n",
       "</g>\n",
       "<!-- 2011502813232 -->\n",
       "<g id=\"node2\" class=\"node\">\n",
       "<title>2011502813232</title>\n",
       "<polygon fill=\"none\" stroke=\"black\" points=\"631.12,-55.5 631.12,-91.5 814.88,-91.5 814.88,-55.5 631.12,-55.5\"/>\n",
       "<text text-anchor=\"middle\" x=\"642.5\" y=\"-68.7\" font-family=\"Times New Roman,serif\" font-size=\"14.00\">d</text>\n",
       "<polyline fill=\"none\" stroke=\"black\" points=\"653.88,-56 653.88,-91.5\"/>\n",
       "<text text-anchor=\"middle\" x=\"693.75\" y=\"-68.7\" font-family=\"Times New Roman,serif\" font-size=\"14.00\">data 4.0000</text>\n",
       "<polyline fill=\"none\" stroke=\"black\" points=\"733.62,-56 733.62,-91.5\"/>\n",
       "<text text-anchor=\"middle\" x=\"774.25\" y=\"-68.7\" font-family=\"Times New Roman,serif\" font-size=\"14.00\">grad 0.0000</text>\n",
       "</g>\n",
       "<!-- 2011502659776* -->\n",
       "<g id=\"node8\" class=\"node\">\n",
       "<title>2011502659776*</title>\n",
       "<ellipse fill=\"none\" stroke=\"black\" cx=\"879\" cy=\"-45.5\" rx=\"27\" ry=\"18\"/>\n",
       "<text text-anchor=\"middle\" x=\"879\" y=\"-40.45\" font-family=\"Times New Roman,serif\" font-size=\"14.00\">*</text>\n",
       "</g>\n",
       "<!-- 2011502813232&#45;&gt;2011502659776* -->\n",
       "<g id=\"edge5\" class=\"edge\">\n",
       "<title>2011502813232&#45;&gt;2011502659776*</title>\n",
       "<path fill=\"none\" stroke=\"black\" d=\"M815.36,-56.89C824.5,-55.23 833.36,-53.62 841.4,-52.15\"/>\n",
       "<polygon fill=\"black\" stroke=\"black\" points=\"841.83,-55.63 851.04,-50.4 840.57,-48.75 841.83,-55.63\"/>\n",
       "</g>\n",
       "<!-- 2011502813232+ -->\n",
       "<g id=\"node3\" class=\"node\">\n",
       "<title>2011502813232+</title>\n",
       "<ellipse fill=\"none\" stroke=\"black\" cx=\"567\" cy=\"-73.5\" rx=\"27\" ry=\"18\"/>\n",
       "<text text-anchor=\"middle\" x=\"567\" y=\"-68.45\" font-family=\"Times New Roman,serif\" font-size=\"14.00\">+</text>\n",
       "</g>\n",
       "<!-- 2011502813232+&#45;&gt;2011502813232 -->\n",
       "<g id=\"edge1\" class=\"edge\">\n",
       "<title>2011502813232+&#45;&gt;2011502813232</title>\n",
       "<path fill=\"none\" stroke=\"black\" d=\"M594.47,-73.5C601.87,-73.5 610.38,-73.5 619.43,-73.5\"/>\n",
       "<polygon fill=\"black\" stroke=\"black\" points=\"619.17,-77 629.17,-73.5 619.17,-70 619.17,-77\"/>\n",
       "</g>\n",
       "<!-- 2011502812752 -->\n",
       "<g id=\"node4\" class=\"node\">\n",
       "<title>2011502812752</title>\n",
       "<polygon fill=\"none\" stroke=\"black\" points=\"315.38,-83.5 315.38,-119.5 502.88,-119.5 502.88,-83.5 315.38,-83.5\"/>\n",
       "<text text-anchor=\"middle\" x=\"326.38\" y=\"-96.7\" font-family=\"Times New Roman,serif\" font-size=\"14.00\">e</text>\n",
       "<polyline fill=\"none\" stroke=\"black\" points=\"337.38,-84 337.38,-119.5\"/>\n",
       "<text text-anchor=\"middle\" x=\"379.5\" y=\"-96.7\" font-family=\"Times New Roman,serif\" font-size=\"14.00\">data &#45;6.0000</text>\n",
       "<polyline fill=\"none\" stroke=\"black\" points=\"421.62,-84 421.62,-119.5\"/>\n",
       "<text text-anchor=\"middle\" x=\"462.25\" y=\"-96.7\" font-family=\"Times New Roman,serif\" font-size=\"14.00\">grad 0.0000</text>\n",
       "</g>\n",
       "<!-- 2011502812752&#45;&gt;2011502813232+ -->\n",
       "<g id=\"edge4\" class=\"edge\">\n",
       "<title>2011502812752&#45;&gt;2011502813232+</title>\n",
       "<path fill=\"none\" stroke=\"black\" d=\"M503.05,-84.81C512.25,-83.16 521.16,-81.56 529.24,-80.1\"/>\n",
       "<polygon fill=\"black\" stroke=\"black\" points=\"529.71,-83.58 538.93,-78.36 528.47,-76.69 529.71,-83.58\"/>\n",
       "</g>\n",
       "<!-- 2011502812752*&#45;&gt;2011502812752 -->\n",
       "<g id=\"edge2\" class=\"edge\">\n",
       "<title>2011502812752*&#45;&gt;2011502812752</title>\n",
       "<path fill=\"none\" stroke=\"black\" d=\"M278.69,-101.5C286.1,-101.5 294.64,-101.5 303.71,-101.5\"/>\n",
       "<polygon fill=\"black\" stroke=\"black\" points=\"303.51,-105 313.51,-101.5 303.51,-98 303.51,-105\"/>\n",
       "</g>\n",
       "<!-- 2011502812848 -->\n",
       "<g id=\"node6\" class=\"node\">\n",
       "<title>2011502812848</title>\n",
       "<polygon fill=\"none\" stroke=\"black\" points=\"314.25,-28.5 314.25,-64.5 504,-64.5 504,-28.5 314.25,-28.5\"/>\n",
       "<text text-anchor=\"middle\" x=\"325.25\" y=\"-41.7\" font-family=\"Times New Roman,serif\" font-size=\"14.00\">c</text>\n",
       "<polyline fill=\"none\" stroke=\"black\" points=\"336.25,-29 336.25,-64.5\"/>\n",
       "<text text-anchor=\"middle\" x=\"379.5\" y=\"-41.7\" font-family=\"Times New Roman,serif\" font-size=\"14.00\">data 10.0000</text>\n",
       "<polyline fill=\"none\" stroke=\"black\" points=\"422.75,-29 422.75,-64.5\"/>\n",
       "<text text-anchor=\"middle\" x=\"463.38\" y=\"-41.7\" font-family=\"Times New Roman,serif\" font-size=\"14.00\">grad 0.0000</text>\n",
       "</g>\n",
       "<!-- 2011502812848&#45;&gt;2011502813232+ -->\n",
       "<g id=\"edge8\" class=\"edge\">\n",
       "<title>2011502812848&#45;&gt;2011502813232+</title>\n",
       "<path fill=\"none\" stroke=\"black\" d=\"M504.39,-62.83C513.16,-64.35 521.65,-65.82 529.37,-67.15\"/>\n",
       "<polygon fill=\"black\" stroke=\"black\" points=\"528.5,-70.56 538.95,-68.81 529.69,-63.66 528.5,-70.56\"/>\n",
       "</g>\n",
       "<!-- 2011502659776 -->\n",
       "<g id=\"node7\" class=\"node\">\n",
       "<title>2011502659776</title>\n",
       "<polygon fill=\"none\" stroke=\"black\" points=\"942,-27.5 942,-63.5 1131.75,-63.5 1131.75,-27.5 942,-27.5\"/>\n",
       "<text text-anchor=\"middle\" x=\"954.12\" y=\"-40.7\" font-family=\"Times New Roman,serif\" font-size=\"14.00\">L</text>\n",
       "<polyline fill=\"none\" stroke=\"black\" points=\"966.25,-28 966.25,-63.5\"/>\n",
       "<text text-anchor=\"middle\" x=\"1008.38\" y=\"-40.7\" font-family=\"Times New Roman,serif\" font-size=\"14.00\">data &#45;8.0000</text>\n",
       "<polyline fill=\"none\" stroke=\"black\" points=\"1050.5,-28 1050.5,-63.5\"/>\n",
       "<text text-anchor=\"middle\" x=\"1091.12\" y=\"-40.7\" font-family=\"Times New Roman,serif\" font-size=\"14.00\">grad 0.0000</text>\n",
       "</g>\n",
       "<!-- 2011502659776*&#45;&gt;2011502659776 -->\n",
       "<g id=\"edge3\" class=\"edge\">\n",
       "<title>2011502659776*&#45;&gt;2011502659776</title>\n",
       "<path fill=\"none\" stroke=\"black\" d=\"M906.44,-45.5C913.59,-45.5 921.78,-45.5 930.49,-45.5\"/>\n",
       "<polygon fill=\"black\" stroke=\"black\" points=\"930.26,-49 940.26,-45.5 930.26,-42 930.26,-49\"/>\n",
       "</g>\n",
       "<!-- 2011502663424 -->\n",
       "<g id=\"node9\" class=\"node\">\n",
       "<title>2011502663424</title>\n",
       "<polygon fill=\"none\" stroke=\"black\" points=\"630,-0.5 630,-36.5 816,-36.5 816,-0.5 630,-0.5\"/>\n",
       "<text text-anchor=\"middle\" x=\"640.25\" y=\"-13.7\" font-family=\"Times New Roman,serif\" font-size=\"14.00\">f</text>\n",
       "<polyline fill=\"none\" stroke=\"black\" points=\"650.5,-1 650.5,-36.5\"/>\n",
       "<text text-anchor=\"middle\" x=\"692.62\" y=\"-13.7\" font-family=\"Times New Roman,serif\" font-size=\"14.00\">data &#45;2.0000</text>\n",
       "<polyline fill=\"none\" stroke=\"black\" points=\"734.75,-1 734.75,-36.5\"/>\n",
       "<text text-anchor=\"middle\" x=\"775.38\" y=\"-13.7\" font-family=\"Times New Roman,serif\" font-size=\"14.00\">grad 0.0000</text>\n",
       "</g>\n",
       "<!-- 2011502663424&#45;&gt;2011502659776* -->\n",
       "<g id=\"edge9\" class=\"edge\">\n",
       "<title>2011502663424&#45;&gt;2011502659776*</title>\n",
       "<path fill=\"none\" stroke=\"black\" d=\"M816.25,-34.67C825.01,-36.21 833.5,-37.7 841.24,-39.05\"/>\n",
       "<polygon fill=\"black\" stroke=\"black\" points=\"840.39,-42.46 850.84,-40.74 841.6,-35.56 840.39,-42.46\"/>\n",
       "</g>\n",
       "<!-- 2011502975344 -->\n",
       "<g id=\"node10\" class=\"node\">\n",
       "<title>2011502975344</title>\n",
       "<polygon fill=\"none\" stroke=\"black\" points=\"2.62,-56.5 2.62,-92.5 185.62,-92.5 185.62,-56.5 2.62,-56.5\"/>\n",
       "<text text-anchor=\"middle\" x=\"13.62\" y=\"-69.7\" font-family=\"Times New Roman,serif\" font-size=\"14.00\">a</text>\n",
       "<polyline fill=\"none\" stroke=\"black\" points=\"24.62,-57 24.62,-92.5\"/>\n",
       "<text text-anchor=\"middle\" x=\"64.5\" y=\"-69.7\" font-family=\"Times New Roman,serif\" font-size=\"14.00\">data 2.0000</text>\n",
       "<polyline fill=\"none\" stroke=\"black\" points=\"104.38,-57 104.38,-92.5\"/>\n",
       "<text text-anchor=\"middle\" x=\"145\" y=\"-69.7\" font-family=\"Times New Roman,serif\" font-size=\"14.00\">grad 0.0000</text>\n",
       "</g>\n",
       "<!-- 2011502975344&#45;&gt;2011502812752* -->\n",
       "<g id=\"edge7\" class=\"edge\">\n",
       "<title>2011502975344&#45;&gt;2011502812752*</title>\n",
       "<path fill=\"none\" stroke=\"black\" d=\"M185.81,-90.28C195.45,-91.96 204.82,-93.59 213.29,-95.07\"/>\n",
       "<polygon fill=\"black\" stroke=\"black\" points=\"212.65,-98.51 223.1,-96.77 213.85,-91.61 212.65,-98.51\"/>\n",
       "</g>\n",
       "</g>\n",
       "</svg>\n"
      ],
      "text/plain": [
       "<graphviz.graphs.Digraph at 0x1d454c544d0>"
      ]
     },
     "execution_count": 104,
     "metadata": {},
     "output_type": "execute_result"
    }
   ],
   "source": [
    "def draw_dot(root):\n",
    "    dot=Digraph(format='svg',graph_attr=({'rankdir':'LR'}))\n",
    "    nodes, edges= trace(root)\n",
    "    for n in nodes:\n",
    "        uid=str(id(n))\n",
    "        dot.node(name=uid,label=\"{%s | data % .4f | grad % .4f}\"%(n.label,n.data,n.grad), shape='record')\n",
    "        if n._op:\n",
    "            dot.node(name=uid+n._op,label=n._op)\n",
    "            dot.edge(uid+n._op, uid)\n",
    "    for n1, n2 in edges:\n",
    "        dot.edge(str(id(n1)),str(id(n2))+n2._op)\n",
    "    return dot\n",
    "    \n",
    "draw_dot(L)\n"
   ]
  },
  {
   "cell_type": "code",
   "execution_count": 105,
   "id": "1e350468-dcc1-428d-9bfa-5f91f639769d",
   "metadata": {},
   "outputs": [],
   "source": [
    "L.grad=1\n",
    "f.grad=4\n",
    "d.grad=-2\n",
    "e.grad=-2\n",
    "c.grad=-2\n",
    "b.grad=-4\n",
    "a.grad=6"
   ]
  },
  {
   "cell_type": "code",
   "execution_count": 106,
   "id": "abefe5f7-d250-428b-885d-89d3b6554c98",
   "metadata": {},
   "outputs": [
    {
     "name": "stdout",
     "output_type": "stream",
     "text": [
      "6.000000000021544\n"
     ]
    }
   ],
   "source": [
    "def lol():\n",
    "    h=0.0001\n",
    "    a=Value(2.0,label='a')\n",
    "    b=Value(-3.0,label='b')\n",
    "    c=Value(10.0,label='c')\n",
    "    e=a*b;e.label='e'\n",
    "    d=e+c;d.label='d'\n",
    "    f=Value(-2.0,label='f')\n",
    "    L=d*f;L.label='L'\n",
    "    L1=L.data\n",
    "    \n",
    "    a=Value(2.0+h,label='a')\n",
    "    b=Value(-3.0,label='b')\n",
    "    c=Value(10.0,label='c')\n",
    "    e=a*b;e.label='e'\n",
    "    d=e+c;d.label='d'\n",
    "    f=Value(-2.0,label='f')\n",
    "    L=d*f;L.label='L'\n",
    "    L2=L.data\n",
    "    print((L2-L1)/h)\n",
    "\n",
    "lol()"
   ]
  },
  {
   "cell_type": "code",
   "execution_count": 107,
   "id": "703b9484-73b1-415f-b051-01a2fbdb6038",
   "metadata": {},
   "outputs": [
    {
     "name": "stdout",
     "output_type": "stream",
     "text": [
      "-7.928064095999999\n"
     ]
    }
   ],
   "source": [
    "a.data+=0.001*a.grad\n",
    "b.data+=0.001*b.grad\n",
    "c.data+=0.001*c.grad\n",
    "f.data+=0.001*f.grad\n",
    "\n",
    "e=a*b\n",
    "d=e+c\n",
    "L=d*f\n",
    "print(L.data)"
   ]
  },
  {
   "cell_type": "code",
   "execution_count": 134,
   "id": "07a482fd-9036-4168-a046-49b1d60f9024",
   "metadata": {},
   "outputs": [],
   "source": [
    "#Building a neuron\n",
    "#Define the inputs\n",
    "x1=Value(2.0, label='x1')\n",
    "x2=Value(0.0, label='x2')\n",
    "#Define the weights\n",
    "w1=Value(-3.0, label='w1')\n",
    "w2=Value(1.0, label='w2')\n",
    "#Define the bias\n",
    "b=Value(6.88137, label='b')\n",
    "#product of the inputs with their corresponding weights\n",
    "x1w1=x1*w1; x1w1.label='x1w1'\n",
    "x2w2=x2*w2; x2w2.label='x2w2'\n",
    "#sum of these products\n",
    "x1w1x2w2=x1w1+x2w2; x1w1x2w2.label='x1w1+x2w2'\n",
    "#Add bias to this sum\n",
    "n=x1w1x2w2+b; n.label='n'\n",
    "#pass this whole sum through the activation fucntion (tanh) in the current example\n",
    "o=n.tanh(); o.label='o'"
   ]
  },
  {
   "cell_type": "code",
   "execution_count": 154,
   "id": "99d19a9a-f97b-4216-a11f-6f4c025f54dd",
   "metadata": {},
   "outputs": [
    {
     "data": {
      "image/svg+xml": [
       "<?xml version=\"1.0\" encoding=\"UTF-8\" standalone=\"no\"?>\n",
       "<!DOCTYPE svg PUBLIC \"-//W3C//DTD SVG 1.1//EN\"\n",
       " \"http://www.w3.org/Graphics/SVG/1.1/DTD/svg11.dtd\">\n",
       "<!-- Generated by graphviz version 12.2.1 (20241206.2353)\n",
       " -->\n",
       "<!-- Pages: 1 -->\n",
       "<svg width=\"1539pt\" height=\"210pt\"\n",
       " viewBox=\"0.00 0.00 1538.75 210.00\" xmlns=\"http://www.w3.org/2000/svg\" xmlns:xlink=\"http://www.w3.org/1999/xlink\">\n",
       "<g id=\"graph0\" class=\"graph\" transform=\"scale(1 1) rotate(0) translate(4 206)\">\n",
       "<polygon fill=\"white\" stroke=\"none\" points=\"-4,4 -4,-206 1534.75,-206 1534.75,4 -4,4\"/>\n",
       "<!-- 2011467308576 -->\n",
       "<g id=\"node1\" class=\"node\">\n",
       "<title>2011467308576</title>\n",
       "<polygon fill=\"none\" stroke=\"black\" points=\"3.75,-165.5 3.75,-201.5 194.25,-201.5 194.25,-165.5 3.75,-165.5\"/>\n",
       "<text text-anchor=\"middle\" x=\"18.5\" y=\"-178.7\" font-family=\"Times New Roman,serif\" font-size=\"14.00\">x2</text>\n",
       "<polyline fill=\"none\" stroke=\"black\" points=\"33.25,-166 33.25,-201.5\"/>\n",
       "<text text-anchor=\"middle\" x=\"73.12\" y=\"-178.7\" font-family=\"Times New Roman,serif\" font-size=\"14.00\">data 0.0000</text>\n",
       "<polyline fill=\"none\" stroke=\"black\" points=\"113,-166 113,-201.5\"/>\n",
       "<text text-anchor=\"middle\" x=\"153.62\" y=\"-178.7\" font-family=\"Times New Roman,serif\" font-size=\"14.00\">grad 0.5000</text>\n",
       "</g>\n",
       "<!-- 2011467315440* -->\n",
       "<g id=\"node7\" class=\"node\">\n",
       "<title>2011467315440*</title>\n",
       "<ellipse fill=\"none\" stroke=\"black\" cx=\"261\" cy=\"-128.5\" rx=\"27\" ry=\"18\"/>\n",
       "<text text-anchor=\"middle\" x=\"261\" y=\"-123.45\" font-family=\"Times New Roman,serif\" font-size=\"14.00\">*</text>\n",
       "</g>\n",
       "<!-- 2011467308576&#45;&gt;2011467315440* -->\n",
       "<g id=\"edge14\" class=\"edge\">\n",
       "<title>2011467308576&#45;&gt;2011467315440*</title>\n",
       "<path fill=\"none\" stroke=\"black\" d=\"M172.12,-165.01C180.9,-162.35 189.7,-159.5 198,-156.5 208.09,-152.86 218.82,-148.27 228.47,-143.88\"/>\n",
       "<polygon fill=\"black\" stroke=\"black\" points=\"229.86,-147.09 237.45,-139.69 226.9,-140.75 229.86,-147.09\"/>\n",
       "</g>\n",
       "<!-- 2011467306560 -->\n",
       "<g id=\"node2\" class=\"node\">\n",
       "<title>2011467306560</title>\n",
       "<polygon fill=\"none\" stroke=\"black\" points=\"1037.25,-54.5 1037.25,-90.5 1221,-90.5 1221,-54.5 1037.25,-54.5\"/>\n",
       "<text text-anchor=\"middle\" x=\"1048.62\" y=\"-67.7\" font-family=\"Times New Roman,serif\" font-size=\"14.00\">n</text>\n",
       "<polyline fill=\"none\" stroke=\"black\" points=\"1060,-55 1060,-90.5\"/>\n",
       "<text text-anchor=\"middle\" x=\"1099.88\" y=\"-67.7\" font-family=\"Times New Roman,serif\" font-size=\"14.00\">data 0.8814</text>\n",
       "<polyline fill=\"none\" stroke=\"black\" points=\"1139.75,-55 1139.75,-90.5\"/>\n",
       "<text text-anchor=\"middle\" x=\"1180.38\" y=\"-67.7\" font-family=\"Times New Roman,serif\" font-size=\"14.00\">grad 0.5000</text>\n",
       "</g>\n",
       "<!-- 2011467312560tanh -->\n",
       "<g id=\"node14\" class=\"node\">\n",
       "<title>2011467312560tanh</title>\n",
       "<ellipse fill=\"none\" stroke=\"black\" cx=\"1284\" cy=\"-72.5\" rx=\"27\" ry=\"18\"/>\n",
       "<text text-anchor=\"middle\" x=\"1284\" y=\"-67.45\" font-family=\"Times New Roman,serif\" font-size=\"14.00\">tanh</text>\n",
       "</g>\n",
       "<!-- 2011467306560&#45;&gt;2011467312560tanh -->\n",
       "<g id=\"edge11\" class=\"edge\">\n",
       "<title>2011467306560&#45;&gt;2011467312560tanh</title>\n",
       "<path fill=\"none\" stroke=\"black\" d=\"M1221.26,-72.5C1229.64,-72.5 1237.77,-72.5 1245.23,-72.5\"/>\n",
       "<polygon fill=\"black\" stroke=\"black\" points=\"1245.2,-76 1255.2,-72.5 1245.2,-69 1245.2,-76\"/>\n",
       "</g>\n",
       "<!-- 2011467306560+ -->\n",
       "<g id=\"node3\" class=\"node\">\n",
       "<title>2011467306560+</title>\n",
       "<ellipse fill=\"none\" stroke=\"black\" cx=\"974.25\" cy=\"-72.5\" rx=\"27\" ry=\"18\"/>\n",
       "<text text-anchor=\"middle\" x=\"974.25\" y=\"-67.45\" font-family=\"Times New Roman,serif\" font-size=\"14.00\">+</text>\n",
       "</g>\n",
       "<!-- 2011467306560+&#45;&gt;2011467306560 -->\n",
       "<g id=\"edge1\" class=\"edge\">\n",
       "<title>2011467306560+&#45;&gt;2011467306560</title>\n",
       "<path fill=\"none\" stroke=\"black\" d=\"M1001.53,-72.5C1008.67,-72.5 1016.86,-72.5 1025.57,-72.5\"/>\n",
       "<polygon fill=\"black\" stroke=\"black\" points=\"1025.31,-76 1035.31,-72.5 1025.31,-69 1025.31,-76\"/>\n",
       "</g>\n",
       "<!-- 2011467301520 -->\n",
       "<g id=\"node4\" class=\"node\">\n",
       "<title>2011467301520</title>\n",
       "<polygon fill=\"none\" stroke=\"black\" points=\"694.5,-27.5 694.5,-63.5 878.25,-63.5 878.25,-27.5 694.5,-27.5\"/>\n",
       "<text text-anchor=\"middle\" x=\"705.88\" y=\"-40.7\" font-family=\"Times New Roman,serif\" font-size=\"14.00\">b</text>\n",
       "<polyline fill=\"none\" stroke=\"black\" points=\"717.25,-28 717.25,-63.5\"/>\n",
       "<text text-anchor=\"middle\" x=\"757.12\" y=\"-40.7\" font-family=\"Times New Roman,serif\" font-size=\"14.00\">data 6.8814</text>\n",
       "<polyline fill=\"none\" stroke=\"black\" points=\"797,-28 797,-63.5\"/>\n",
       "<text text-anchor=\"middle\" x=\"837.62\" y=\"-40.7\" font-family=\"Times New Roman,serif\" font-size=\"14.00\">grad 0.5000</text>\n",
       "</g>\n",
       "<!-- 2011467301520&#45;&gt;2011467306560+ -->\n",
       "<g id=\"edge6\" class=\"edge\">\n",
       "<title>2011467301520&#45;&gt;2011467306560+</title>\n",
       "<path fill=\"none\" stroke=\"black\" d=\"M878.68,-58.76C899.27,-61.75 919.96,-64.76 936.72,-67.19\"/>\n",
       "<polygon fill=\"black\" stroke=\"black\" points=\"935.75,-70.59 946.15,-68.56 936.75,-63.66 935.75,-70.59\"/>\n",
       "</g>\n",
       "<!-- 2011467315344 -->\n",
       "<g id=\"node5\" class=\"node\">\n",
       "<title>2011467315344</title>\n",
       "<polygon fill=\"none\" stroke=\"black\" points=\"0,-55.5 0,-91.5 198,-91.5 198,-55.5 0,-55.5\"/>\n",
       "<text text-anchor=\"middle\" x=\"16.25\" y=\"-68.7\" font-family=\"Times New Roman,serif\" font-size=\"14.00\">w1</text>\n",
       "<polyline fill=\"none\" stroke=\"black\" points=\"32.5,-56 32.5,-91.5\"/>\n",
       "<text text-anchor=\"middle\" x=\"74.62\" y=\"-68.7\" font-family=\"Times New Roman,serif\" font-size=\"14.00\">data &#45;3.0000</text>\n",
       "<polyline fill=\"none\" stroke=\"black\" points=\"116.75,-56 116.75,-91.5\"/>\n",
       "<text text-anchor=\"middle\" x=\"157.38\" y=\"-68.7\" font-family=\"Times New Roman,serif\" font-size=\"14.00\">grad 1.0000</text>\n",
       "</g>\n",
       "<!-- 2011467305216* -->\n",
       "<g id=\"node9\" class=\"node\">\n",
       "<title>2011467305216*</title>\n",
       "<ellipse fill=\"none\" stroke=\"black\" cx=\"261\" cy=\"-73.5\" rx=\"27\" ry=\"18\"/>\n",
       "<text text-anchor=\"middle\" x=\"261\" y=\"-68.45\" font-family=\"Times New Roman,serif\" font-size=\"14.00\">*</text>\n",
       "</g>\n",
       "<!-- 2011467315344&#45;&gt;2011467305216* -->\n",
       "<g id=\"edge7\" class=\"edge\">\n",
       "<title>2011467315344&#45;&gt;2011467305216*</title>\n",
       "<path fill=\"none\" stroke=\"black\" d=\"M198.14,-73.5C206.61,-73.5 214.8,-73.5 222.29,-73.5\"/>\n",
       "<polygon fill=\"black\" stroke=\"black\" points=\"222.29,-77 232.29,-73.5 222.29,-70 222.29,-77\"/>\n",
       "</g>\n",
       "<!-- 2011467315440 -->\n",
       "<g id=\"node6\" class=\"node\">\n",
       "<title>2011467315440</title>\n",
       "<polygon fill=\"none\" stroke=\"black\" points=\"326.25,-110.5 326.25,-146.5 533.25,-146.5 533.25,-110.5 326.25,-110.5\"/>\n",
       "<text text-anchor=\"middle\" x=\"349.25\" y=\"-123.7\" font-family=\"Times New Roman,serif\" font-size=\"14.00\">x2w2</text>\n",
       "<polyline fill=\"none\" stroke=\"black\" points=\"372.25,-111 372.25,-146.5\"/>\n",
       "<text text-anchor=\"middle\" x=\"412.12\" y=\"-123.7\" font-family=\"Times New Roman,serif\" font-size=\"14.00\">data 0.0000</text>\n",
       "<polyline fill=\"none\" stroke=\"black\" points=\"452,-111 452,-146.5\"/>\n",
       "<text text-anchor=\"middle\" x=\"492.62\" y=\"-123.7\" font-family=\"Times New Roman,serif\" font-size=\"14.00\">grad 0.5000</text>\n",
       "</g>\n",
       "<!-- 2011467316016+ -->\n",
       "<g id=\"node11\" class=\"node\">\n",
       "<title>2011467316016+</title>\n",
       "<ellipse fill=\"none\" stroke=\"black\" cx=\"598.5\" cy=\"-100.5\" rx=\"27\" ry=\"18\"/>\n",
       "<text text-anchor=\"middle\" x=\"598.5\" y=\"-95.45\" font-family=\"Times New Roman,serif\" font-size=\"14.00\">+</text>\n",
       "</g>\n",
       "<!-- 2011467315440&#45;&gt;2011467316016+ -->\n",
       "<g id=\"edge9\" class=\"edge\">\n",
       "<title>2011467315440&#45;&gt;2011467316016+</title>\n",
       "<path fill=\"none\" stroke=\"black\" d=\"M533.51,-111.25C543.16,-109.62 552.45,-108.06 560.82,-106.66\"/>\n",
       "<polygon fill=\"black\" stroke=\"black\" points=\"561.2,-110.15 570.48,-105.04 560.04,-103.24 561.2,-110.15\"/>\n",
       "</g>\n",
       "<!-- 2011467315440*&#45;&gt;2011467315440 -->\n",
       "<g id=\"edge2\" class=\"edge\">\n",
       "<title>2011467315440*&#45;&gt;2011467315440</title>\n",
       "<path fill=\"none\" stroke=\"black\" d=\"M288.42,-128.5C296.08,-128.5 304.96,-128.5 314.47,-128.5\"/>\n",
       "<polygon fill=\"black\" stroke=\"black\" points=\"314.37,-132 324.37,-128.5 314.37,-125 314.37,-132\"/>\n",
       "</g>\n",
       "<!-- 2011467305216 -->\n",
       "<g id=\"node8\" class=\"node\">\n",
       "<title>2011467305216</title>\n",
       "<polygon fill=\"none\" stroke=\"black\" points=\"324,-55.5 324,-91.5 535.5,-91.5 535.5,-55.5 324,-55.5\"/>\n",
       "<text text-anchor=\"middle\" x=\"347\" y=\"-68.7\" font-family=\"Times New Roman,serif\" font-size=\"14.00\">x1w1</text>\n",
       "<polyline fill=\"none\" stroke=\"black\" points=\"370,-56 370,-91.5\"/>\n",
       "<text text-anchor=\"middle\" x=\"412.12\" y=\"-68.7\" font-family=\"Times New Roman,serif\" font-size=\"14.00\">data &#45;6.0000</text>\n",
       "<polyline fill=\"none\" stroke=\"black\" points=\"454.25,-56 454.25,-91.5\"/>\n",
       "<text text-anchor=\"middle\" x=\"494.88\" y=\"-68.7\" font-family=\"Times New Roman,serif\" font-size=\"14.00\">grad 0.5000</text>\n",
       "</g>\n",
       "<!-- 2011467305216&#45;&gt;2011467316016+ -->\n",
       "<g id=\"edge13\" class=\"edge\">\n",
       "<title>2011467305216&#45;&gt;2011467316016+</title>\n",
       "<path fill=\"none\" stroke=\"black\" d=\"M535.88,-90.52C544.59,-91.93 552.96,-93.29 560.56,-94.52\"/>\n",
       "<polygon fill=\"black\" stroke=\"black\" points=\"559.91,-97.96 570.34,-96.1 561.03,-91.05 559.91,-97.96\"/>\n",
       "</g>\n",
       "<!-- 2011467305216*&#45;&gt;2011467305216 -->\n",
       "<g id=\"edge3\" class=\"edge\">\n",
       "<title>2011467305216*&#45;&gt;2011467305216</title>\n",
       "<path fill=\"none\" stroke=\"black\" d=\"M288.42,-73.5C295.52,-73.5 303.68,-73.5 312.42,-73.5\"/>\n",
       "<polygon fill=\"black\" stroke=\"black\" points=\"312.24,-77 322.24,-73.5 312.24,-70 312.24,-77\"/>\n",
       "</g>\n",
       "<!-- 2011467316016 -->\n",
       "<g id=\"node10\" class=\"node\">\n",
       "<title>2011467316016</title>\n",
       "<polygon fill=\"none\" stroke=\"black\" points=\"661.5,-82.5 661.5,-118.5 911.25,-118.5 911.25,-82.5 661.5,-82.5\"/>\n",
       "<text text-anchor=\"middle\" x=\"703.62\" y=\"-95.7\" font-family=\"Times New Roman,serif\" font-size=\"14.00\">x1w1+x2w2</text>\n",
       "<polyline fill=\"none\" stroke=\"black\" points=\"745.75,-83 745.75,-118.5\"/>\n",
       "<text text-anchor=\"middle\" x=\"787.88\" y=\"-95.7\" font-family=\"Times New Roman,serif\" font-size=\"14.00\">data &#45;6.0000</text>\n",
       "<polyline fill=\"none\" stroke=\"black\" points=\"830,-83 830,-118.5\"/>\n",
       "<text text-anchor=\"middle\" x=\"870.62\" y=\"-95.7\" font-family=\"Times New Roman,serif\" font-size=\"14.00\">grad 0.5000</text>\n",
       "</g>\n",
       "<!-- 2011467316016&#45;&gt;2011467306560+ -->\n",
       "<g id=\"edge10\" class=\"edge\">\n",
       "<title>2011467316016&#45;&gt;2011467306560+</title>\n",
       "<path fill=\"none\" stroke=\"black\" d=\"M910.06,-82.02C919.33,-80.62 928.15,-79.29 936.11,-78.09\"/>\n",
       "<polygon fill=\"black\" stroke=\"black\" points=\"936.61,-81.56 945.97,-76.61 935.56,-74.64 936.61,-81.56\"/>\n",
       "</g>\n",
       "<!-- 2011467316016+&#45;&gt;2011467316016 -->\n",
       "<g id=\"edge4\" class=\"edge\">\n",
       "<title>2011467316016+&#45;&gt;2011467316016</title>\n",
       "<path fill=\"none\" stroke=\"black\" d=\"M625.74,-100.5C632.77,-100.5 640.89,-100.5 649.65,-100.5\"/>\n",
       "<polygon fill=\"black\" stroke=\"black\" points=\"649.55,-104 659.55,-100.5 649.55,-97 649.55,-104\"/>\n",
       "</g>\n",
       "<!-- 2011467316112 -->\n",
       "<g id=\"node12\" class=\"node\">\n",
       "<title>2011467316112</title>\n",
       "<polygon fill=\"none\" stroke=\"black\" points=\"2.25,-110.5 2.25,-146.5 195.75,-146.5 195.75,-110.5 2.25,-110.5\"/>\n",
       "<text text-anchor=\"middle\" x=\"18.5\" y=\"-123.7\" font-family=\"Times New Roman,serif\" font-size=\"14.00\">w2</text>\n",
       "<polyline fill=\"none\" stroke=\"black\" points=\"34.75,-111 34.75,-146.5\"/>\n",
       "<text text-anchor=\"middle\" x=\"74.62\" y=\"-123.7\" font-family=\"Times New Roman,serif\" font-size=\"14.00\">data 1.0000</text>\n",
       "<polyline fill=\"none\" stroke=\"black\" points=\"114.5,-111 114.5,-146.5\"/>\n",
       "<text text-anchor=\"middle\" x=\"155.12\" y=\"-123.7\" font-family=\"Times New Roman,serif\" font-size=\"14.00\">grad 0.0000</text>\n",
       "</g>\n",
       "<!-- 2011467316112&#45;&gt;2011467315440* -->\n",
       "<g id=\"edge12\" class=\"edge\">\n",
       "<title>2011467316112&#45;&gt;2011467315440*</title>\n",
       "<path fill=\"none\" stroke=\"black\" d=\"M195.84,-128.5C205.14,-128.5 214.15,-128.5 222.32,-128.5\"/>\n",
       "<polygon fill=\"black\" stroke=\"black\" points=\"222.13,-132 232.13,-128.5 222.13,-125 222.13,-132\"/>\n",
       "</g>\n",
       "<!-- 2011467312560 -->\n",
       "<g id=\"node13\" class=\"node\">\n",
       "<title>2011467312560</title>\n",
       "<polygon fill=\"none\" stroke=\"black\" points=\"1347,-54.5 1347,-90.5 1530.75,-90.5 1530.75,-54.5 1347,-54.5\"/>\n",
       "<text text-anchor=\"middle\" x=\"1358.38\" y=\"-67.7\" font-family=\"Times New Roman,serif\" font-size=\"14.00\">o</text>\n",
       "<polyline fill=\"none\" stroke=\"black\" points=\"1369.75,-55 1369.75,-90.5\"/>\n",
       "<text text-anchor=\"middle\" x=\"1409.62\" y=\"-67.7\" font-family=\"Times New Roman,serif\" font-size=\"14.00\">data 0.7071</text>\n",
       "<polyline fill=\"none\" stroke=\"black\" points=\"1449.5,-55 1449.5,-90.5\"/>\n",
       "<text text-anchor=\"middle\" x=\"1490.12\" y=\"-67.7\" font-family=\"Times New Roman,serif\" font-size=\"14.00\">grad 1.0000</text>\n",
       "</g>\n",
       "<!-- 2011467312560tanh&#45;&gt;2011467312560 -->\n",
       "<g id=\"edge5\" class=\"edge\">\n",
       "<title>2011467312560tanh&#45;&gt;2011467312560</title>\n",
       "<path fill=\"none\" stroke=\"black\" d=\"M1311.28,-72.5C1318.42,-72.5 1326.61,-72.5 1335.32,-72.5\"/>\n",
       "<polygon fill=\"black\" stroke=\"black\" points=\"1335.06,-76 1345.06,-72.5 1335.06,-69 1335.06,-76\"/>\n",
       "</g>\n",
       "<!-- 2011467308000 -->\n",
       "<g id=\"node15\" class=\"node\">\n",
       "<title>2011467308000</title>\n",
       "<polygon fill=\"none\" stroke=\"black\" points=\"1.5,-0.5 1.5,-36.5 196.5,-36.5 196.5,-0.5 1.5,-0.5\"/>\n",
       "<text text-anchor=\"middle\" x=\"16.25\" y=\"-13.7\" font-family=\"Times New Roman,serif\" font-size=\"14.00\">x1</text>\n",
       "<polyline fill=\"none\" stroke=\"black\" points=\"31,-1 31,-36.5\"/>\n",
       "<text text-anchor=\"middle\" x=\"70.88\" y=\"-13.7\" font-family=\"Times New Roman,serif\" font-size=\"14.00\">data 2.0000</text>\n",
       "<polyline fill=\"none\" stroke=\"black\" points=\"110.75,-1 110.75,-36.5\"/>\n",
       "<text text-anchor=\"middle\" x=\"153.62\" y=\"-13.7\" font-family=\"Times New Roman,serif\" font-size=\"14.00\">grad &#45;1.5000</text>\n",
       "</g>\n",
       "<!-- 2011467308000&#45;&gt;2011467305216* -->\n",
       "<g id=\"edge8\" class=\"edge\">\n",
       "<title>2011467308000&#45;&gt;2011467305216*</title>\n",
       "<path fill=\"none\" stroke=\"black\" d=\"M172.12,-36.99C180.9,-39.65 189.7,-42.5 198,-45.5 208.09,-49.14 218.82,-53.73 228.47,-58.12\"/>\n",
       "<polygon fill=\"black\" stroke=\"black\" points=\"226.9,-61.25 237.45,-62.31 229.86,-54.91 226.9,-61.25\"/>\n",
       "</g>\n",
       "</g>\n",
       "</svg>\n"
      ],
      "text/plain": [
       "<graphviz.graphs.Digraph at 0x1d456eb84a0>"
      ]
     },
     "execution_count": 154,
     "metadata": {},
     "output_type": "execute_result"
    }
   ],
   "source": [
    "draw_dot(o)"
   ]
  },
  {
   "cell_type": "code",
   "execution_count": 153,
   "id": "1fd870cc-e95c-4b6d-9047-91de257efeb4",
   "metadata": {},
   "outputs": [],
   "source": [
    "topo=[] #create a list called topo\n",
    "visited= set() #create a set called visited\n",
    "def build_topo(v): #build a function to traverse from the node v\n",
    "    if v not in visited: #if v is not yet visited\n",
    "        visited.add(v) #add v to the set visited \n",
    "        for child in v._prev: #visit all the childs of this node v\n",
    "            build_topo(child) #Then traverse the child nodes \n",
    "        topo.append(v) #Append each visited node to the list topo\n",
    "build_topo(o) #Call the recursive function to start traversing from 'o'\n",
    "\n",
    "for nodes in reversed(topo): # for the nodes in the list topo, in the revese direction,\n",
    "    node._backward() #implement back propagation"
   ]
  },
  {
   "cell_type": "code",
   "execution_count": 152,
   "id": "39bc5476-b0ec-4417-8404-6e414036b8f0",
   "metadata": {},
   "outputs": [
    {
     "data": {
      "text/plain": [
       "[Value(data=6.88137),\n",
       " Value(data=-3.0),\n",
       " Value(data=2.0),\n",
       " Value(data=-6.0),\n",
       " Value(data=1.0),\n",
       " Value(data=0.0),\n",
       " Value(data=0.0),\n",
       " Value(data=-6.0),\n",
       " Value(data=0.8813700000000004),\n",
       " Value(data=0.7071049876722272)]"
      ]
     },
     "execution_count": 152,
     "metadata": {},
     "output_type": "execute_result"
    }
   ],
   "source": [
    "topo=[]\n",
    "visited=set()\n",
    "def build_topo(v):\n",
    "    if v not in visited:\n",
    "        visited.add(v)\n",
    "        for child in v._prev:\n",
    "            build_topo(child)\n",
    "        topo.append(v)\n",
    "build_topo(o)\n",
    "topo    "
   ]
  },
  {
   "cell_type": "code",
   "execution_count": 141,
   "id": "6bfa4cab-1a34-4021-9536-5f8356e2f977",
   "metadata": {},
   "outputs": [],
   "source": [
    "o.grad=1.0\n",
    "o._backward()\n",
    "n._backward()\n",
    "x1w1x2w2._backward()\n",
    "b._backward()\n",
    "x1w1._backward()\n",
    "x2w2._backward()\n",
    "x1._backward()\n",
    "w1._backward()\n",
    "x2._backward()\n",
    "w2._backward()"
   ]
  },
  {
   "cell_type": "code",
   "execution_count": 126,
   "id": "ad400b83-1f6b-4a91-8970-1e399e1a1363",
   "metadata": {},
   "outputs": [],
   "source": [
    "#Implementing Backpropagation Manually\n",
    "#Gradient w.r.t 'o'\n",
    "o.grad=1.0\n",
    "#Gradient w.r.t 'n'\n",
    "n.grad=1-(o.data)**2\n",
    "#Gradient w.r.t 'b'\n",
    "b.grad=1.0*n.grad\n",
    "#Gradient w.r.t 'x1w1x2w2'\n",
    "x1w1x2w2.grad=1.0*n.grad\n",
    "#Gradient w.r.t 'x1w1'\n",
    "x1w1.grad=1.0*x1w1x2w2.grad\n",
    "#Gradient w.r.t 'x2w2'\n",
    "x2w2.grad=1.0*x2w2.grad\n",
    "#Gradient w.r.t 'x1'\n",
    "x1.grad=w1.data*x1w1.grad\n",
    "#Gradient w.r.t 'w1'\n",
    "w1.grad=x1.data*x2w2.grad\n",
    "#Gradient w.r.t 'x2'\n",
    "x2.grad=w2.data*x2w2.grad\n",
    "#Gradient w.r.t 'w2'\n",
    "w2.grad=x2.data*x2w2.grad"
   ]
  },
  {
   "cell_type": "code",
   "execution_count": null,
   "id": "6c99d87e-5613-44f6-8a93-cfbdf596c2ff",
   "metadata": {},
   "outputs": [],
   "source": []
  },
  {
   "cell_type": "code",
   "execution_count": null,
   "id": "9c1762f2-f9d0-48e1-bfe4-44398f2e9f64",
   "metadata": {},
   "outputs": [],
   "source": []
  },
  {
   "cell_type": "code",
   "execution_count": null,
   "id": "ba3cf719-a563-439a-930d-e0bc3f0e8102",
   "metadata": {},
   "outputs": [],
   "source": []
  },
  {
   "cell_type": "code",
   "execution_count": null,
   "id": "7cce1a10-ac4a-406b-9bc7-8be6609ef94f",
   "metadata": {},
   "outputs": [],
   "source": []
  },
  {
   "cell_type": "code",
   "execution_count": null,
   "id": "19626713-e0fb-4f10-a342-244fa5d97130",
   "metadata": {},
   "outputs": [],
   "source": []
  },
  {
   "cell_type": "code",
   "execution_count": null,
   "id": "2813b3da-6699-4a3c-8b92-185cacc53f1e",
   "metadata": {},
   "outputs": [],
   "source": []
  },
  {
   "cell_type": "code",
   "execution_count": null,
   "id": "169c492b-6606-40f7-b746-eb46f0bca05e",
   "metadata": {},
   "outputs": [],
   "source": []
  },
  {
   "cell_type": "code",
   "execution_count": null,
   "id": "b0b4b516-c2df-4e33-82c3-47a3248144dc",
   "metadata": {},
   "outputs": [],
   "source": []
  }
 ],
 "metadata": {
  "kernelspec": {
   "display_name": "Python 3 (ipykernel)",
   "language": "python",
   "name": "python3"
  },
  "language_info": {
   "codemirror_mode": {
    "name": "ipython",
    "version": 3
   },
   "file_extension": ".py",
   "mimetype": "text/x-python",
   "name": "python",
   "nbconvert_exporter": "python",
   "pygments_lexer": "ipython3",
   "version": "3.12.9"
  }
 },
 "nbformat": 4,
 "nbformat_minor": 5
}
